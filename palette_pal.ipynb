{
 "metadata": {
  "name": ""
 },
 "nbformat": 3,
 "nbformat_minor": 0,
 "worksheets": [
  {
   "cells": [
    {
     "cell_type": "markdown",
     "metadata": {},
     "source": [
      "# Random Palette Generator\n",
      "\n",
      "Mode of operation:\n",
      "\n",
      "1. Pick a random primary and secondary colour\n",
      "2. Generate different shades of these colours\n",
      "3. Blend all colours at 20% with some pastelle colour so make the palette smooth\n",
      "4. Associate the resulted colours with learned words\n",
      "5. Make a sentence with those words\n",
      "6. Render the palette with a caption"
     ]
    },
    {
     "cell_type": "markdown",
     "metadata": {},
     "source": [
      "## Running\n",
      "\n",
      "first, initialise the Textiser with a grammar, colour names, and default words"
     ]
    },
    {
     "cell_type": "code",
     "collapsed": false,
     "input": [
      "text = Textiser('grammar.json', 'colour_names.json', 'dict.json')"
     ],
     "language": "python",
     "metadata": {},
     "outputs": [],
     "prompt_number": 169
    },
    {
     "cell_type": "markdown",
     "metadata": {},
     "source": [
      "Now, make a random palette, generate a caption and render into an image."
     ]
    },
    {
     "cell_type": "code",
     "collapsed": false,
     "input": [
      "#pal = Palette.random()\n",
      "caption = text.make_sentence(pal)\n",
      "im = pal.make_image(text=caption)"
     ],
     "language": "python",
     "metadata": {},
     "outputs": [],
     "prompt_number": 194
    },
    {
     "cell_type": "markdown",
     "metadata": {},
     "source": [
      "To show it inline:"
     ]
    },
    {
     "cell_type": "code",
     "collapsed": false,
     "input": [
      "imshow(im)"
     ],
     "language": "python",
     "metadata": {},
     "outputs": [
      {
       "metadata": {},
       "output_type": "pyout",
       "prompt_number": 195,
       "text": [
        "<matplotlib.image.AxesImage at 0x118c7c410>"
       ]
      },
      {
       "metadata": {},
       "output_type": "display_data",
       "png": "[encoded data removed]",
       "text": [
        "<matplotlib.figure.Figure at 0x117fb45d0>"
       ]
      }
     ],
     "prompt_number": 195
    },
    {
     "cell_type": "markdown",
     "metadata": {},
     "source": [
      "To open the palette in preview:"
     ]
    },
    {
     "cell_type": "code",
     "collapsed": false,
     "input": [
      "im.show()"
     ],
     "language": "python",
     "metadata": {},
     "outputs": [],
     "prompt_number": 196
    },
    {
     "cell_type": "markdown",
     "metadata": {},
     "source": [
      "To save to file:"
     ]
    },
    {
     "cell_type": "code",
     "collapsed": false,
     "input": [
      "slug = slugify.slugify(caption).replace(\"-\", \"_\")\n",
      "im.save(\"palettes/\" + slug + \".png\")"
     ],
     "language": "python",
     "metadata": {},
     "outputs": [],
     "prompt_number": 197
    },
    {
     "cell_type": "markdown",
     "metadata": {},
     "source": [
      "## Todo\n",
      "\n",
      "### Thesaurus\n",
      "\n",
      "http://words.bighugelabs.com/api/2/ae8fbe2737565d62f94f39d32e49b6e1/poison/json\n",
      "\n",
      "### Twitter API\n",
      "\n",
      "* Key: `blJqBriP22smO3sGg74jIQ`\n",
      "* Token: `2XmL5DWP5JcF8fpL46vnldJyKjfNyyQ7zIbeliG31Q`\n",
      "* Oauth token: `2391717860-gBVC8ZIQjXNg1wXzWUJn8D1nvTNQLeCAY0aFsoR`\n",
      "* Oauth secret: `77yQK5CVk2aBTmg0n0Khvb6y0WMVOpgcZFPwQjdi79WXg`"
     ]
    },
    {
     "cell_type": "code",
     "collapsed": false,
     "input": [
      "from PIL import Image, ImageDraw, ImageFont\n",
      "import colorsys\n",
      "from random import uniform as rnd\n",
      "import random\n",
      "import json\n",
      "import slugify\n",
      "from copy import deepcopy"
     ],
     "language": "python",
     "metadata": {},
     "outputs": [],
     "prompt_number": 107
    },
    {
     "cell_type": "code",
     "collapsed": false,
     "input": [
      "class Textiser(object):\n",
      "    POS_TAGS = \"S VP NP DET N NC N_PL V ADJ VT PN PL VT_3rd V_3rd\".split()\n",
      "    \n",
      "    def __init__(self, grammar_file, db_file, dict_file):\n",
      "        self._load_db(db_file)\n",
      "        self._load_grammar(grammar_file)\n",
      "        self._load_dict(dict_file)\n",
      "    \n",
      "    def _nearest_neighbour(self, colour):\n",
      "        others = [(colour.distance(c), c) for c in self.db.keys()]\n",
      "        return min(others)\n",
      "    \n",
      "    def _load_db(self, filename):\n",
      "        with open(filename) as f:\n",
      "            db = json.load(f)\n",
      "        self.db = {tuple(c['hsl']): c for c in db}\n",
      "        for v in self.db.values():\n",
      "            v.pop('hsl')\n",
      "        \n",
      "    def _load_grammar(self, filename):\n",
      "        with open(filename) as fp:\n",
      "            self.grammar = json.load(fp)\n",
      "    \n",
      "    def _load_dict(self, filename):\n",
      "        with open(filename) as fp:\n",
      "            self.full_dict = json.load(fp)   \n",
      "        \n",
      "    def _extend(self, node, grammar):\n",
      "        if not grammar.get(node):\n",
      "            return None\n",
      "        schema = random.choice(grammar[node]).split()\n",
      "        expanded = []\n",
      "        parse_tree = []\n",
      "        for pos in schema:\n",
      "            if pos in grammar:\n",
      "                expanded.append(self._extend(pos, grammar))\n",
      "            else:\n",
      "                expanded.append(pos)\n",
      "        return \" \".join(expanded) if not None in expanded else None\n",
      "    \n",
      "#         for idx, pos in enumerate(schema):\n",
      "#             if pos == \"det\" and s[idx] == \"a\" and s[idx+1][0] in \"aeiou\":\n",
      "#                 s[idx] += 'n'\n",
      "        \n",
      "#         s[0] = s[0].capitalize()\n",
      "               \n",
      "#         s = \" \".join(s)\n",
      "#         for punct in \",:?!\":\n",
      "#            s = s.replace(\" \"+punct, punct)\n",
      "        return s\n",
      "    \n",
      "    def _extend_words(self, words):\n",
      "        return words\n",
      "    \n",
      "    def _3rd(self, verb):\n",
      "        \"\"\"Returns the third person singular of a verb\"\"\"\n",
      "        if verb.endswith('ph') or verb.endswith(\"sh\") or verb.endswith('s'):\n",
      "            return verb + \"es\"\n",
      "        else:\n",
      "            return verb + \"s\"\n",
      "\n",
      "    def _prepare_grammar(self, colours):\n",
      "        grammar = deepcopy(self.grammar)\n",
      "        \n",
      "        # Find the closest matching colour for each colour and add reated words to grammar\n",
      "        for col in colours:\n",
      "            distance, nearest = self._nearest_neighbour(col)\n",
      "            for pos, words in self.db[nearest].items():\n",
      "                grammar[pos].extend(words)\n",
      "        \n",
      "        # Genitive of proper nouns\n",
      "        grammar['PN_gen'] = [w + \"'s\" if not w.endswith(\"s\") else w + \"'\" for w in grammar['PN']]\n",
      "        \n",
      "#        for pos in grammar:\n",
      "#            if not grammar[pos] and pos in self.full_dict:\n",
      "#                grammar[pos] = self.full_dict[pos]\n",
      "\n",
      "        # Conjugate some words\n",
      "        VT_3rd = [self._3rd(verb) for verb in grammar['VT']]\n",
      "        grammar['VT_3rd'].extend(VT_3rd)\n",
      "        V_3rd = [self._3rd(verb) for verb in grammar['V']]\n",
      "        grammar['V_3rd'].extend(V_3rd)\n",
      "\n",
      "        return grammar\n",
      "\n",
      "                \n",
      "    def make_sentence(self, palette):\n",
      "        s, attempts = None, 0\n",
      "        while not s and attempts < 50:\n",
      "            grammar = self._prepare_grammar(palette.colours)\n",
      "            s = self._extend(\"S\", grammar)\n",
      "        if not s:\n",
      "            return None\n",
      "        \n",
      "        return s"
     ],
     "language": "python",
     "metadata": {},
     "outputs": [],
     "prompt_number": 121
    },
    {
     "cell_type": "code",
     "collapsed": false,
     "input": [
      "class Colour(object):\n",
      "    def __init__(self, h, s, v):\n",
      "        \"\"\"Generates a colour from hue, saturation and value\"\"\"\n",
      "        self.h = h % 1\n",
      "        self.s = max(0, min(s, 1))\n",
      "        self.v = max(0, min(v, 255))\n",
      "        \n",
      "    @classmethod\n",
      "    def random(cls):\n",
      "        return cls(rnd(0,1), rnd(.2,.8), int(rnd(70, 256)))\n",
      "\n",
      "    @classmethod\n",
      "    def from_rgb(cls, *rgb):\n",
      "        return cls(*colorsys.rgb_to_hsv(*rgb))\n",
      "\n",
      "    @classmethod\n",
      "    def from_hex(cls, hex):\n",
      "        hex = hex.strip(\"#\")\n",
      "        r, g, b = hex[0,2], hex[2,4], hex[4,6]\n",
      "        return cls.from_rgb(*[int(p, 16) for p in r, g, b])\n",
      "\n",
      "    \n",
      "    @property\n",
      "    def rgb(self):\n",
      "        return tuple(map(int, colorsys.hsv_to_rgb(*self.hsv)))\n",
      "\n",
      "    @property\n",
      "    def hex(self):\n",
      "        return '#%02x%02x%02x' % self.rgb\n",
      "    \n",
      "    def __repr__(self):\n",
      "        return \"<Colour {}>\".format(self.hex)\n",
      "    \n",
      "    @property\n",
      "    def hsv(self):\n",
      "        return self.h, self.s, self.v\n",
      "    \n",
      "    def blend(self, other, amount=.5):\n",
      "        r, g, b = [c * (1-amount) for c in self.rgb]\n",
      "        ro, go, bo = [c * amount for c in other.rgb]\n",
      "        return self.__class__.from_rgb(r+ro, g+go, b+bo)\n",
      "    \n",
      "    def shade(self, distance):\n",
      "        v = random.gauss(self.v + distance, distance/4)\n",
      "        s = random.gauss(self.s, .1)\n",
      "        h = random.gauss(self.h, .02)\n",
      "        return self.__class__(h, s, v)\n",
      "    \n",
      "    def __mul__(self, other):\n",
      "        if isinstance(other, self.__class__):\n",
      "            return self * other.hsv\n",
      "        mh, ms, mv = other\n",
      "        return self.__class__(self.h * mh, self.s * ms, self.v * mv)\n",
      "    \n",
      "    def distance(self, other, wh=1, ws=.4, wb=.4):\n",
      "        h1, s1, b1 = self.hsv\n",
      "        h2, s2, b2 = other.hsv if hasattr(other, 'hsv') else other\n",
      "        dh, ds, db = (h1 - h2) % 1, abs(s1 - s2), abs(b1 - b2) / 255\n",
      "        return (dh * wh + ds * ws + db * wb) / (ws+ws+wb)\n"
     ],
     "language": "python",
     "metadata": {},
     "outputs": [],
     "prompt_number": 80
    },
    {
     "cell_type": "code",
     "collapsed": false,
     "input": [
      "class Palette(object):\n",
      "    def __init__(self, *colours, **kwargs):\n",
      "        self.colours = colours\n",
      "        self.attribution = kwargs.get('attribution', 'by @palette_pal')\n",
      "        self.text = kwargs.get('text', 'by @palette_pal')\n",
      "        \n",
      "    @classmethod\n",
      "    def random(cls):\n",
      "        primary = Colour.random()\n",
      "        secondary = Colour.random()\n",
      "        blend = Colour(random.random(), .1 + random.random() * .2, random.randint(210, 240))\n",
      "        \n",
      "        colours = [primary.shade(-20), primary,  primary.shade(20), secondary, secondary.shade(20)]\n",
      "        palette = cls(*colours)\n",
      "        palette.blend(blend)\n",
      "\n",
      "        return palette\n",
      "        \n",
      "    def blend(self, colour):\n",
      "        self.colours = [c.blend(colour, .2) for c in self.colours]\n",
      "        \n",
      "    def make_image(self, w=800, h=400, text=\"\", attribution=\"\"):\n",
      "        proportions = {\n",
      "            1: [[100]],\n",
      "            2: [[50, 50], [60, 40]],\n",
      "            3: [[33, 34, 33], [33, 33, 34], [40, 40, 20]],\n",
      "            4: [[25,25,25,25], [40, 20, 20, 20]],\n",
      "            5: [[20, 20, 20, 20, 20], [15, 15, 15, 15, 40], [32, 32, 12, 12, 12]]\n",
      "        }\n",
      "        props = random.choice(proportions[len(self.colours)])\n",
      "        random.shuffle(props)\n",
      "        \n",
      "        font = ImageFont.truetype(\"/Library/Fonts/DIN Condensed Bold.ttf\", 30)\n",
      "        im = Image.new('RGBA', (w, h), (0,0,0, 0))\n",
      "        draw = ImageDraw.Draw(im)\n",
      "    \n",
      "        text_w, _ = draw.textsize(attribution + text+ \" \", font=font)\n",
      "        if text_w + 40 > w:\n",
      "            w = text_w + 40\n",
      "            im = Image.new('RGBA', (w, h), (0,0,0, 0))\n",
      "            draw = ImageDraw.Draw(im)\n",
      "    \n",
      "        x0 = 0\n",
      "        for idx, col in enumerate(self.colours):\n",
      "            x1 = x0 + int(props[idx] * w / 100.0)\n",
      "            draw.rectangle((x0, 0, x1, h), col.rgb)            \n",
      "            if text or attribution:\n",
      "                draw.rectangle((x0, h-50, x1, h), (col * (1, .8, .7)).rgb)\n",
      "                draw.rectangle((x0, h-52, x1, h-50), (col * (1, .8, .7)).rgb)\n",
      "            \n",
      "            x0 = x1\n",
      "\n",
      "        draw.text((20, h - 36), text, font=font, fill=(240,240,240))\n",
      "        text_w, _ = draw.textsize(text+\" \", font=font)\n",
      "        draw.text((20 + text_w, h - 36), attribution, font=font, fill=(205,205,205))\n",
      "        return im\n",
      "        "
     ],
     "language": "python",
     "metadata": {},
     "outputs": [],
     "prompt_number": 57
    },
    {
     "cell_type": "markdown",
     "metadata": {
      "slideshow": {
       "slide_type": "-"
      }
     },
     "source": [
      "# Learning algorithm"
     ]
    },
    {
     "cell_type": "code",
     "collapsed": false,
     "input": [
      "def learn():\n",
      "    def input_list(prompt=\"\"):\n",
      "        s = raw_input(prompt)\n",
      "        parts = [p.strip() for p in s.split(\",\")]\n",
      "        return [p for p in parts if p]\n",
      "    \n",
      "    \n",
      "    n = input_list(\"Nouns: \")\n",
      "    pn = input_list(\"Proper Nouns: \")\n",
      "    adj = input_list(\"Adjectives: \")\n",
      "    v = input_list(\"Verbs: \")\n",
      "    vt = input_list(\"Transitive Verbs: \")\n",
      "    pl = input_list(\"Places: \")\n",
      "    l = {\"n\": n, \"pn\": pn, \"adj\": adj, 'v': v, 'vt': vt, 'pl': pl} \n",
      "    return {pos: w for pos, w in l.items() if w}"
     ],
     "language": "python",
     "metadata": {},
     "outputs": [],
     "prompt_number": 193
    },
    {
     "cell_type": "markdown",
     "metadata": {},
     "source": [
      "## Learning steps:\n",
      "\n",
      "1. Generate and show colours\n",
      "2. Ask for words and save"
     ]
    },
    {
     "cell_type": "code",
     "collapsed": false,
     "input": [
      "colour = Colour.random()\n",
      "imshow(Image.new('RGB', (400, 200), colour.rgb))"
     ],
     "language": "python",
     "metadata": {},
     "outputs": [
      {
       "metadata": {},
       "output_type": "pyout",
       "prompt_number": 1003,
       "text": [
        "<matplotlib.image.AxesImage at 0x13ed3ea10>"
       ]
      },
      {
       "metadata": {},
       "output_type": "display_data",
       "png": "[encoded data removed]",
       "text": [
        "<matplotlib.figure.Figure at 0x13ed17a50>"
       ]
      }
     ],
     "prompt_number": 1003
    },
    {
     "cell_type": "code",
     "collapsed": false,
     "input": [
      "with open('colour_names.json', 'a') as fp:\n",
      "    db = learn()\n",
      "    line = json.dumps([colour.hsv, db])\n",
      "    fp.write(line+\"\\n\")"
     ],
     "language": "python",
     "metadata": {},
     "outputs": [
      {
       "name": "stdout",
       "output_type": "stream",
       "stream": "stdout",
       "text": [
        "Nouns: Camo\n"
       ]
      },
      {
       "name": "stdout",
       "output_type": "stream",
       "stream": "stdout",
       "text": [
        "Proper Nouns: Sergeant\n"
       ]
      },
      {
       "name": "stdout",
       "output_type": "stream",
       "stream": "stdout",
       "text": [
        "Adjectives: \n"
       ]
      },
      {
       "name": "stdout",
       "output_type": "stream",
       "stream": "stdout",
       "text": [
        "Verbs: drill\n"
       ]
      },
      {
       "name": "stdout",
       "output_type": "stream",
       "stream": "stdout",
       "text": [
        "Transitive Verbs: drill\n"
       ]
      },
      {
       "name": "stdout",
       "output_type": "stream",
       "stream": "stdout",
       "text": [
        "Places: \n"
       ]
      }
     ],
     "prompt_number": 947
    },
    {
     "cell_type": "code",
     "collapsed": false,
     "input": [
      "with open (\"extra_colours.json\") as fp:\n",
      "    r = json.load(fp)\n",
      "result = []\n",
      "for name, h, s, l in r:\n",
      "    line = {\"hsl\": [h/360.0, s/100.0, l*2.55], \"n\": name}\n",
      "    result.append(line)"
     ],
     "language": "python",
     "metadata": {},
     "outputs": [],
     "prompt_number": 36
    },
    {
     "cell_type": "code",
     "collapsed": false,
     "input": [
      "result[1]"
     ],
     "language": "python",
     "metadata": {},
     "outputs": [
      {
       "metadata": {},
       "output_type": "pyout",
       "prompt_number": 37,
       "text": [
        "{'hsl': [0.5666666666666667, 0.45, 168.29999999999998], 'n': u'Air Force'}"
       ]
      }
     ],
     "prompt_number": 37
    },
    {
     "cell_type": "code",
     "collapsed": false,
     "input": [
      "with open ('colour_names.json') as f:\n",
      "    db = json.load(f)\n",
      "with open ('colour_names.json', 'w') as f:\n",
      "    db = json.dump(db, f) "
     ],
     "language": "python",
     "metadata": {},
     "outputs": [],
     "prompt_number": 42
    },
    {
     "cell_type": "code",
     "collapsed": false,
     "input": [
      "def show(n):\n",
      "    hsl, caption = result[n]\n",
      "    c = Colour(*hsl)\n",
      "    imshow(Palette(c).make_image(text=caption['n']))"
     ],
     "language": "python",
     "metadata": {},
     "outputs": [],
     "prompt_number": 22
    },
    {
     "cell_type": "code",
     "collapsed": false,
     "input": [
      "json.dump?"
     ],
     "language": "python",
     "metadata": {},
     "outputs": [],
     "prompt_number": 41
    },
    {
     "cell_type": "code",
     "collapsed": false,
     "input": [
      "result[1]"
     ],
     "language": "python",
     "metadata": {},
     "outputs": [
      {
       "metadata": {},
       "output_type": "pyout",
       "prompt_number": 35,
       "text": [
        "[[0.5666666666666667, 0.45, 168.29999999999998], {'n': u'Air Force'}]"
       ]
      }
     ],
     "prompt_number": 35
    },
    {
     "cell_type": "code",
     "collapsed": false,
     "input": [
      "int('aa7cc1', 16)"
     ],
     "language": "python",
     "metadata": {},
     "outputs": [
      {
       "metadata": {},
       "output_type": "pyout",
       "prompt_number": 79,
       "text": [
        "11173057"
       ]
      }
     ],
     "prompt_number": 79
    },
    {
     "cell_type": "code",
     "collapsed": false,
     "input": [],
     "language": "python",
     "metadata": {},
     "outputs": []
    }
   ],
   "metadata": {}
  }
 ]
}